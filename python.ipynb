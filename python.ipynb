{
  "nbformat": 4,
  "nbformat_minor": 0,
  "metadata": {
    "colab": {
      "provenance": []
    },
    "kernelspec": {
      "name": "python3",
      "display_name": "Python 3"
    },
    "language_info": {
      "name": "python"
    }
  },
  "cells": [
    {
      "cell_type": "code",
      "execution_count": null,
      "metadata": {
        "id": "S9zY69seww41"
      },
      "outputs": [],
      "source": []
    },
    {
      "cell_type": "markdown",
      "source": [
        "  # python\n",
        "\n",
        "1. What is Python, and why is it popular?\n",
        "   - Python is a high-level, interpreted programming language known for its simplicity, readability, and versatility. Created by Guido van Rossum and first released in 1991, it has since become one of the most widely used programming languages in the world.\n",
        "\n",
        "2. What is an interpreter in Python?\n",
        "   - In Python, an interpreter is the program that reads, analyzes, and executes your Python code line by line.\n",
        "\n",
        "3. What are pre-defined keywords in Python?\n",
        "   - Pre-defined keywords in Python are reserved words that have special meaning in the language. You cannot use them as variable names, function names, or identifiers, because they are part of Python's syntax.\n",
        "\n",
        "4. Can keywords be used as variable name?\n",
        "   - No, keywords cannot be used as variable names in Python.\n",
        "\n",
        "5. What is mutability in Python?\n",
        "   - Mutability in Python refers to whether or not an object can be changed after it is created.\n",
        "\n",
        "6. Why are lists mutable, but tuples are immutable?   \n",
        "   - The reason lists are mutable but tuples are immutable in Python comes down to design philosophy and use cases.\n",
        "     \n",
        "7.  What is the difference between “==” and “is” operators in Python?\n",
        "   - In Python, == and is are two very different operators, and confusing them can lead to subtle bugs.\n",
        "     \n",
        "      Checks if the values of two objects are equal.\n",
        "\n",
        " - it compares the content of the objects.\n",
        "\n",
        " - this can be overridden by the class using __eq__()\n",
        "\n",
        "8.  What are logical operators in Python?\n",
        "  - Logical operators are used to combine conditional statements (booleans) and return either True or False.\n",
        "\n",
        "9.  What is type casting in Python?\n",
        "  - Type casting means converting a value from one data type to another — like from a string to an integer, or from a float to a string.\n",
        "\n",
        "10. What is the difference between implicit and explicit type casting?\n",
        "  - The difference between implicit and explicit type casting lies in how and when the conversion between data types occurs, and who initiates it — the compiler or the programmer.\n",
        "\n",
        "11.  What is the purpose of conditional statements in Python?\n",
        "  -  Conditional statements in Python are used to make decisions in your code based on certain conditions. They allow your program to execute different blocks of code depending on whether a condition is True or False.\n",
        "\n",
        "12.  How does the elif statement work?\n",
        "  - The elif (short for \"else if\") statement is used when you want to check multiple conditions — more than just an if and an else. It lets your program test multiple expressions one after another, and execute a block of code for the first condition that evaluates to True.\n",
        "\n",
        "13.  What is the difference between for and while loops?\n",
        "  - Difference Between for and while Loops in Python\n",
        "Both for and while loops are used to repeat a block of code, but they differ in how and when the loop continues.\n",
        "\n",
        "14. Describe a scenario where a while loop is more suitable than a for loop.\n",
        " - Imagine you're building a program that asks a user to enter a password, and it should keep asking until the correct password is entered.\n",
        "\n",
        "  This is a perfect case for a while loop, because:\n",
        "\n",
        "  You don’t know how many attempts the user will need.\n",
        "\n",
        " You want to repeat based on a condition (password is incorrect).\n",
        "\n",
        "\n",
        "  \n",
        "  # practical Questions\n",
        "\n",
        "1.  Write a Python program to print \"Hello, World!\n",
        " -"
      ],
      "metadata": {
        "id": "hnjszBtCxKYL"
      }
    },
    {
      "cell_type": "code",
      "source": [
        "print(\"hello,world!\")"
      ],
      "metadata": {
        "colab": {
          "base_uri": "https://localhost:8080/"
        },
        "id": "NxgyWTM6CHoA",
        "outputId": "cb5747c4-c38f-4eaa-e585-9281475024f7"
      },
      "execution_count": null,
      "outputs": [
        {
          "output_type": "stream",
          "name": "stdout",
          "text": [
            "hello,world!\n"
          ]
        }
      ]
    },
    {
      "cell_type": "markdown",
      "source": [
        " 2. Write a Python program that displays your name and age.\n",
        "  "
      ],
      "metadata": {
        "id": "8JzdlxwKDCmY"
      }
    },
    {
      "cell_type": "code",
      "source": [
        "name = \"alina\"\n",
        "age  = 25\n",
        "\n",
        "print(\"name:\",name)\n",
        "print(\"age:\" ,age)"
      ],
      "metadata": {
        "colab": {
          "base_uri": "https://localhost:8080/"
        },
        "id": "HHfDJBlJDXk1",
        "outputId": "128e8b81-9ec2-4584-dd2c-95e165e7a3db"
      },
      "execution_count": null,
      "outputs": [
        {
          "output_type": "stream",
          "name": "stdout",
          "text": [
            "name: alina\n",
            "age: 25\n"
          ]
        }
      ]
    },
    {
      "cell_type": "code",
      "source": [],
      "metadata": {
        "id": "O9xN6Y39E9nV"
      },
      "execution_count": null,
      "outputs": []
    },
    {
      "cell_type": "markdown",
      "source": [
        " 3.  Write code to print all the pre-defined keywords in Python using the keyword library.\n",
        "\n"
      ],
      "metadata": {
        "id": "0o0hcFVPk6wP"
      }
    },
    {
      "cell_type": "code",
      "source": [
        "import keyword\n",
        "\n",
        "# Get the list of all keywords\n",
        "keywords_list = keyword.kwlist\n",
        "\n",
        "# Print the list of keywords\n",
        "print(\"Python Keywords:\")\n",
        "for kw in keywords_list:\n",
        "    print(kw)\n",
        "\n"
      ],
      "metadata": {
        "colab": {
          "base_uri": "https://localhost:8080/"
        },
        "id": "8AOtsxmflUml",
        "outputId": "74f56c98-ee44-4ee4-de73-815c4a2ab321"
      },
      "execution_count": null,
      "outputs": [
        {
          "output_type": "stream",
          "name": "stdout",
          "text": [
            "Python Keywords:\n",
            "False\n",
            "None\n",
            "True\n",
            "and\n",
            "as\n",
            "assert\n",
            "async\n",
            "await\n",
            "break\n",
            "class\n",
            "continue\n",
            "def\n",
            "del\n",
            "elif\n",
            "else\n",
            "except\n",
            "finally\n",
            "for\n",
            "from\n",
            "global\n",
            "if\n",
            "import\n",
            "in\n",
            "is\n",
            "lambda\n",
            "nonlocal\n",
            "not\n",
            "or\n",
            "pass\n",
            "raise\n",
            "return\n",
            "try\n",
            "while\n",
            "with\n",
            "yield\n"
          ]
        }
      ]
    },
    {
      "cell_type": "markdown",
      "source": [
        "  4. Write a program that checks if a given word is a Python keyword.\n",
        "    \n",
        "    "
      ],
      "metadata": {
        "id": "LeYoWyiJmp6G"
      }
    },
    {
      "cell_type": "code",
      "source": [
        "import keyword\n",
        "\n",
        "# Input from the user\n",
        "word = input(\"Enter a word to check if it's a Python keyword: \")\n",
        "\n",
        "# Check if the word is a keyword\n",
        "if keyword.iskeyword(word):\n",
        "    print(f\"'{word}' is a Python keyword.\")\n",
        "else:\n",
        "    print(f\"'{word}' is NOT a Python keyword.\")\n"
      ],
      "metadata": {
        "colab": {
          "base_uri": "https://localhost:8080/"
        },
        "id": "dPNvFeMPnHvG",
        "outputId": "ea643a1a-227b-482d-b43d-02d963ce1e1c"
      },
      "execution_count": null,
      "outputs": [
        {
          "output_type": "stream",
          "name": "stdout",
          "text": [
            "Enter a word to check if it's a Python keyword: ahsan\n",
            "'ahsan' is NOT a Python keyword.\n"
          ]
        }
      ]
    },
    {
      "cell_type": "markdown",
      "source": [
        "  5.. Create a list and tuple in Python, and demonstrate how attempting to change an element works differently\n",
        "for each.\n",
        "\n",
        "  "
      ],
      "metadata": {
        "id": "2NW-o9BFnar2"
      }
    },
    {
      "cell_type": "code",
      "source": [
        "# Creating a list and a tuple\n",
        "my_list = [10, 20, 30]\n",
        "my_tuple = (10, 20, 30)\n",
        "\n",
        "print(\"Original list:\", my_list)\n",
        "print(\"Original tuple:\", my_tuple)\n",
        "\n",
        "# Modifying an element in the list\n",
        "my_list[1] = 200\n",
        "print(\"\\nModified list:\", my_list)\n",
        "\n",
        "# Trying to modify an element in the tuple (this will raise an error)\n",
        "try:\n",
        "    my_tuple[1] = 200\n",
        "except TypeError as e:\n",
        "    print(\"\\nError when trying to modify tuple:\", e)\n"
      ],
      "metadata": {
        "colab": {
          "base_uri": "https://localhost:8080/"
        },
        "id": "4gX3tR23oC3n",
        "outputId": "b66bbd09-0bc6-408b-e459-d59b92970810"
      },
      "execution_count": null,
      "outputs": [
        {
          "output_type": "stream",
          "name": "stdout",
          "text": [
            "Original list: [10, 20, 30]\n",
            "Original tuple: (10, 20, 30)\n",
            "\n",
            "Modified list: [10, 200, 30]\n",
            "\n",
            "Error when trying to modify tuple: 'tuple' object does not support item assignment\n"
          ]
        }
      ]
    },
    {
      "cell_type": "markdown",
      "source": [
        "  6. Write a function to demonstrate the behavior of mutable and immutable arguments.\n",
        "\n",
        "    "
      ],
      "metadata": {
        "id": "X1yqwN0zoOFa"
      }
    },
    {
      "cell_type": "code",
      "source": [
        "def modify_arguments(num, num_list):\n",
        "    print(\"\\nInside function before modification:\")\n",
        "    print(\"num =\", num)\n",
        "    print(\"num_list =\", num_list)\n",
        "\n",
        "    # Modify the integer\n",
        "    num += 10\n",
        "\n",
        "    # Modify the list\n",
        "    num_list.append(100)\n",
        "\n",
        "    print(\"\\nInside function after modification:\")\n",
        "    print(\"num =\", num)\n",
        "    print(\"num_list =\", num_list)\n",
        "\n",
        "# Main code\n",
        "x = 5                   # Immutable\n",
        "y = [1, 2, 3]           # Mutable\n",
        "\n",
        "print(\"Before function call:\")\n",
        "print(\"x =\", x)\n",
        "print(\"y =\", y)\n",
        "\n",
        "modify_arguments(x, y)\n",
        "\n",
        "print(\"\\nAfter function call:\")\n",
        "print(\"x =\", x)         # Still 5 (unchanged)\n",
        "print(\"y =\", y)         # Modified to [1, 2, 3, 100]\n"
      ],
      "metadata": {
        "colab": {
          "base_uri": "https://localhost:8080/"
        },
        "id": "UZgXSHA8oXc7",
        "outputId": "dd7e6432-145b-41fb-a027-b4b955a37b80"
      },
      "execution_count": null,
      "outputs": [
        {
          "output_type": "stream",
          "name": "stdout",
          "text": [
            "Before function call:\n",
            "x = 5\n",
            "y = [1, 2, 3]\n",
            "\n",
            "Inside function before modification:\n",
            "num = 5\n",
            "num_list = [1, 2, 3]\n",
            "\n",
            "Inside function after modification:\n",
            "num = 15\n",
            "num_list = [1, 2, 3, 100]\n",
            "\n",
            "After function call:\n",
            "x = 5\n",
            "y = [1, 2, 3, 100]\n"
          ]
        }
      ]
    },
    {
      "cell_type": "markdown",
      "source": [
        " 7. Write a program that performs basic arithmetic operations on two user-input numbers.\n",
        "\n",
        "  \n"
      ],
      "metadata": {
        "id": "NNTOlbsnogN0"
      }
    },
    {
      "cell_type": "code",
      "source": [
        "# Get input from the user\n",
        "num1 = float(input(\"Enter the first number: \"))\n",
        "num2 = float(input(\"Enter the second number: \"))\n",
        "\n",
        "# Perform arithmetic operations\n",
        "addition = num1 + num2\n",
        "subtraction = num1 - num2\n",
        "multiplication = num1 * num2\n",
        "\n",
        "# Handle division and modulus safely\n",
        "if num2 != 0:\n",
        "    division = num1 / num2\n",
        "    modulus = num1 % num2\n",
        "else:\n",
        "    division = \"Undefined (cannot divide by zero)\"\n",
        "    modulus = \"Undefined (cannot take modulus with zero)\"\n",
        "\n",
        "# Display results\n",
        "print(\"\\nResults:\")\n",
        "print(f\"Addition: {num1} + {num2} = {addition}\")\n",
        "print(f\"Subtraction: {num1} - {num2} = {subtraction}\")\n",
        "print(f\"Multiplication: {num1} * {num2} = {multiplication}\")\n",
        "print(f\"Division: {num1} / {num2} = {division}\")\n",
        "print(f\"Modulus: {num1} % {num2} = {modulus}\")\n"
      ],
      "metadata": {
        "colab": {
          "base_uri": "https://localhost:8080/"
        },
        "id": "4TxxLxUto3mc",
        "outputId": "40e61273-f056-453e-8718-ccbda4e70ae7"
      },
      "execution_count": null,
      "outputs": [
        {
          "output_type": "stream",
          "name": "stdout",
          "text": [
            "Enter the first number: 5\n",
            "Enter the second number: 3\n",
            "\n",
            "Results:\n",
            "Addition: 5.0 + 3.0 = 8.0\n",
            "Subtraction: 5.0 - 3.0 = 2.0\n",
            "Multiplication: 5.0 * 3.0 = 15.0\n",
            "Division: 5.0 / 3.0 = 1.6666666666666667\n",
            "Modulus: 5.0 % 3.0 = 2.0\n"
          ]
        }
      ]
    },
    {
      "cell_type": "markdown",
      "source": [
        " 8. Write a program to demonstrate the use of logical operators."
      ],
      "metadata": {
        "id": "MpzmNAWApD1e"
      }
    },
    {
      "cell_type": "code",
      "source": [
        "# Input from the user\n",
        "a = int(input(\"Enter the first number: \"))\n",
        "b = int(input(\"Enter the second number: \"))\n",
        "\n",
        "print(\"\\nLogical Operator Demonstration:\")\n",
        "\n",
        "# and operator\n",
        "if a > 0 and b > 0:\n",
        "    print(\"Both numbers are positive (a > 0 and b > 0)\")\n",
        "\n",
        "# or operator\n",
        "if a > 0 or b > 0:\n",
        "    print(\"At least one number is positive (a > 0 or b > 0)\")\n",
        "\n",
        "# not operator\n",
        "print(\"Negation of (a > b):\", not (a > b))\n"
      ],
      "metadata": {
        "colab": {
          "base_uri": "https://localhost:8080/"
        },
        "id": "OYktywgjpLaw",
        "outputId": "1b51e455-6235-4d65-daea-34fead24304a"
      },
      "execution_count": null,
      "outputs": [
        {
          "output_type": "stream",
          "name": "stdout",
          "text": [
            "Enter the first number: 0\n",
            "Enter the second number: 1\n",
            "\n",
            "Logical Operator Demonstration:\n",
            "At least one number is positive (a > 0 or b > 0)\n",
            "Negation of (a > b): True\n"
          ]
        }
      ]
    },
    {
      "cell_type": "markdown",
      "source": [
        " 9. Write a Python program to convert user input from string to integer, float, and boolean types."
      ],
      "metadata": {
        "id": "5thh64AXpZZJ"
      }
    },
    {
      "cell_type": "code",
      "source": [
        "# Get input from the user as a string\n",
        "user_input = input(\"Enter a value: \")\n",
        "\n",
        "# Convert to integer\n",
        "try:\n",
        "    int_value = int(user_input)\n",
        "    print(\"Integer conversion:\", int_value)\n",
        "except ValueError:\n",
        "    print(\"Cannot convert to integer.\")\n",
        "\n",
        "# Convert to float\n",
        "try:\n",
        "    float_value = float(user_input)\n",
        "    print(\"Float conversion:\", float_value)\n",
        "except ValueError:\n",
        "    print(\"Cannot convert to float.\")\n",
        "\n",
        "# Convert to boolean\n",
        "# In Python, empty strings are False, non-empty strings are True\n",
        "bool_value = bool(user_input)\n",
        "print(\"Boolean conversion:\", bool_value)\n"
      ],
      "metadata": {
        "colab": {
          "base_uri": "https://localhost:8080/"
        },
        "id": "WE6lSC2Sp0s-",
        "outputId": "2f7eeb67-4a94-464c-b4af-3e6d1a13b827"
      },
      "execution_count": null,
      "outputs": [
        {
          "output_type": "stream",
          "name": "stdout",
          "text": [
            "Enter a value: 1\n",
            "Integer conversion: 1\n",
            "Float conversion: 1.0\n",
            "Boolean conversion: True\n"
          ]
        }
      ]
    },
    {
      "cell_type": "markdown",
      "source": [
        " 10.. Write code to demonstrate type casting with list elements."
      ],
      "metadata": {
        "id": "jOsZYVavqDOG"
      }
    },
    {
      "cell_type": "code",
      "source": [
        "# Original list of strings\n",
        "string_list = [\"10\", \"20\", \"30\", \"40\"]\n",
        "\n",
        "print(\"Original list (strings):\", string_list)\n",
        "\n",
        "# Convert each string to an integer\n",
        "int_list = [int(item) for item in string_list]\n",
        "print(\"List after converting to integers:\", int_list)\n",
        "\n",
        "# Convert each string to a float\n",
        "float_list = [float(item) for item in string_list]\n",
        "print(\"List after converting to floats:\", float_list)\n"
      ],
      "metadata": {
        "colab": {
          "base_uri": "https://localhost:8080/"
        },
        "id": "FWNg3M42qKsy",
        "outputId": "306ac3b4-3f6f-461f-f30a-3e3581a50a82"
      },
      "execution_count": null,
      "outputs": [
        {
          "output_type": "stream",
          "name": "stdout",
          "text": [
            "Original list (strings): ['10', '20', '30', '40']\n",
            "List after converting to integers: [10, 20, 30, 40]\n",
            "List after converting to floats: [10.0, 20.0, 30.0, 40.0]\n"
          ]
        }
      ]
    },
    {
      "cell_type": "markdown",
      "source": [
        " 11. Write a program that checks if a number is positive, negative, or zero."
      ],
      "metadata": {
        "id": "X7YHsZoSqXqo"
      }
    },
    {
      "cell_type": "code",
      "source": [
        "# Get input from the user\n",
        "num = float(input(\"Enter a number: \"))\n",
        "\n",
        "# Check the condition\n",
        "if num > 0:\n",
        "    print(\"The number is positive.\")\n",
        "elif num < 0:\n",
        "    print(\"The number is negative.\")\n",
        "else:\n",
        "    print(\"The number is zero.\")\n"
      ],
      "metadata": {
        "colab": {
          "base_uri": "https://localhost:8080/"
        },
        "id": "_4_YkEpDqgJw",
        "outputId": "613c81b9-a792-43ee-eb5f-dae65409f2c8"
      },
      "execution_count": null,
      "outputs": [
        {
          "output_type": "stream",
          "name": "stdout",
          "text": [
            "Enter a number: 8\n",
            "The number is positive.\n"
          ]
        }
      ]
    },
    {
      "cell_type": "markdown",
      "source": [
        "   12. Write a for loop to print numbers from 1 to 10."
      ],
      "metadata": {
        "id": "PKH_0Uqlqpha"
      }
    },
    {
      "cell_type": "code",
      "source": [
        "# Print numbers from 1 to 10 using a for loop\n",
        "for i in range(1, 11):\n",
        "    print(i)\n"
      ],
      "metadata": {
        "colab": {
          "base_uri": "https://localhost:8080/"
        },
        "id": "yORiINcLqwo7",
        "outputId": "d2988a3d-fcf5-4e04-b4f9-c29fbbfa825b"
      },
      "execution_count": null,
      "outputs": [
        {
          "output_type": "stream",
          "name": "stdout",
          "text": [
            "1\n",
            "2\n",
            "3\n",
            "4\n",
            "5\n",
            "6\n",
            "7\n",
            "8\n",
            "9\n",
            "10\n"
          ]
        }
      ]
    },
    {
      "cell_type": "markdown",
      "source": [
        " 13. Write a Python program to find the sum of all even numbers between 1 and 50."
      ],
      "metadata": {
        "id": "K3rhq9h_q_cV"
      }
    },
    {
      "cell_type": "code",
      "source": [
        "# Initialize the sum\n",
        "even_sum = 0\n",
        "\n",
        "# Loop through numbers from 1 to 50\n",
        "for num in range(1, 51):\n",
        "    if num % 2 == 0:\n",
        "        even_sum += num\n",
        "\n",
        "# Display the result\n",
        "print(\"Sum of even numbers from 1 to 50 is:\", even_sum)\n"
      ],
      "metadata": {
        "colab": {
          "base_uri": "https://localhost:8080/"
        },
        "id": "ykEionUMrpyU",
        "outputId": "f19609a4-c159-4465-f236-0098f3c4e01d"
      },
      "execution_count": null,
      "outputs": [
        {
          "output_type": "stream",
          "name": "stdout",
          "text": [
            "Sum of even numbers from 1 to 50 is: 650\n"
          ]
        }
      ]
    },
    {
      "cell_type": "markdown",
      "source": [
        " 14.. Write a program to reverse a string using a while loop."
      ],
      "metadata": {
        "id": "GhwQbsDhrzN7"
      }
    },
    {
      "cell_type": "code",
      "source": [
        "# Get input from the user\n",
        "text = input(\"Enter a string: \")\n",
        "\n",
        "# Initialize an empty string for the reversed result\n",
        "reversed_text = \"\"\n",
        "\n",
        "# Start from the last index\n",
        "index = len(text) - 1\n",
        "\n",
        "# Loop backwards using a while loop\n",
        "while index >= 0:\n",
        "    reversed_text += text[index]\n",
        "    index -= 1\n",
        "\n",
        "# Display the reversed string\n",
        "print(\"Reversed string:\", reversed_text)\n"
      ],
      "metadata": {
        "colab": {
          "base_uri": "https://localhost:8080/"
        },
        "id": "HtSQfstosD9h",
        "outputId": "b5d015db-cb3a-4493-fe52-7a9ca09ded74"
      },
      "execution_count": null,
      "outputs": [
        {
          "output_type": "stream",
          "name": "stdout",
          "text": [
            "Enter a string: ahsan\n",
            "Reversed string: nasha\n"
          ]
        }
      ]
    },
    {
      "cell_type": "markdown",
      "source": [
        " 15. Write a Python program to calculate the factorial of a number provided by the user using a while loop."
      ],
      "metadata": {
        "id": "dFkQolsgsQPX"
      }
    },
    {
      "cell_type": "code",
      "source": [
        "# Get input from the user\n",
        "num = int(input(\"Enter a non-negative integer: \"))\n",
        "\n",
        "# Initialize result\n",
        "factorial = 1\n",
        "\n",
        "# Check if the number is negative\n",
        "if num < 0:\n",
        "    print(\"Factorial is not defined for negative numbers.\")\n",
        "else:\n",
        "    i = 1\n",
        "    while i <= num:\n",
        "        factorial *= i\n",
        "        i += 1\n",
        "\n",
        "    print(f\"Factorial of {num} is: {factorial}\")\n"
      ],
      "metadata": {
        "colab": {
          "base_uri": "https://localhost:8080/"
        },
        "id": "YzBZ2o3RsXOe",
        "outputId": "88fc8049-fbf9-4493-a0ef-2cf7500f9938"
      },
      "execution_count": null,
      "outputs": [
        {
          "output_type": "stream",
          "name": "stdout",
          "text": [
            "Enter a non-negative integer: 0\n",
            "Factorial of 0 is: 1\n"
          ]
        }
      ]
    },
    {
      "cell_type": "code",
      "source": [],
      "metadata": {
        "id": "IQjtyiYXsPsk"
      },
      "execution_count": null,
      "outputs": []
    }
  ]
}